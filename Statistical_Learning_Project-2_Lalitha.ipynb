{
 "cells": [
  {
   "cell_type": "code",
   "execution_count": 220,
   "metadata": {},
   "outputs": [],
   "source": [
    "import numpy       as np\n",
    "import pandas      as pd\n",
    "import scipy.stats as stats\n",
    "import seaborn as sns\n",
    "import matplotlib.pyplot as plt"
   ]
  },
  {
   "cell_type": "markdown",
   "metadata": {},
   "source": [
    "# Load the data and extract the relevant columns.\n",
    "Relevant Columns will be Finances, Gender, Village-Town and Healthy Eating."
   ]
  },
  {
   "cell_type": "code",
   "execution_count": 221,
   "metadata": {},
   "outputs": [
    {
     "name": "stdout",
     "output_type": "stream",
     "text": [
      "<class 'pandas.core.frame.DataFrame'>\n",
      "RangeIndex: 1010 entries, 0 to 1009\n",
      "Data columns (total 4 columns):\n",
      "Finances          1007 non-null float64\n",
      "Gender            1004 non-null object\n",
      "Village - town    1006 non-null object\n",
      "Healthy eating    1007 non-null float64\n",
      "dtypes: float64(2), object(2)\n",
      "memory usage: 23.7+ KB\n"
     ]
    }
   ],
   "source": [
    "fsev_all = pd.read_csv('responses.csv')\n",
    "fsev_df = pd.DataFrame(fsev_all)\n",
    "df_new = fsev_df[[\"Finances\",\"Gender\",\"Village - town\",\"Healthy eating\"]]\n",
    "df_new.info()"
   ]
  },
  {
   "cell_type": "markdown",
   "metadata": {},
   "source": [
    "# Explore the data and understand how the data is distributed? Is there any outlier or missing value? And Share your insights."
   ]
  },
  {
   "cell_type": "code",
   "execution_count": 222,
   "metadata": {},
   "outputs": [
    {
     "data": {
      "text/html": [
       "<div>\n",
       "<style scoped>\n",
       "    .dataframe tbody tr th:only-of-type {\n",
       "        vertical-align: middle;\n",
       "    }\n",
       "\n",
       "    .dataframe tbody tr th {\n",
       "        vertical-align: top;\n",
       "    }\n",
       "\n",
       "    .dataframe thead th {\n",
       "        text-align: right;\n",
       "    }\n",
       "</style>\n",
       "<table border=\"1\" class=\"dataframe\">\n",
       "  <thead>\n",
       "    <tr style=\"text-align: right;\">\n",
       "      <th></th>\n",
       "      <th>Finances</th>\n",
       "      <th>Healthy eating</th>\n",
       "    </tr>\n",
       "  </thead>\n",
       "  <tbody>\n",
       "    <tr>\n",
       "      <th>count</th>\n",
       "      <td>1007.000000</td>\n",
       "      <td>1007.000000</td>\n",
       "    </tr>\n",
       "    <tr>\n",
       "      <th>mean</th>\n",
       "      <td>3.023833</td>\n",
       "      <td>3.031778</td>\n",
       "    </tr>\n",
       "    <tr>\n",
       "      <th>std</th>\n",
       "      <td>1.144365</td>\n",
       "      <td>0.936865</td>\n",
       "    </tr>\n",
       "    <tr>\n",
       "      <th>min</th>\n",
       "      <td>1.000000</td>\n",
       "      <td>1.000000</td>\n",
       "    </tr>\n",
       "    <tr>\n",
       "      <th>25%</th>\n",
       "      <td>2.000000</td>\n",
       "      <td>3.000000</td>\n",
       "    </tr>\n",
       "    <tr>\n",
       "      <th>50%</th>\n",
       "      <td>3.000000</td>\n",
       "      <td>3.000000</td>\n",
       "    </tr>\n",
       "    <tr>\n",
       "      <th>75%</th>\n",
       "      <td>4.000000</td>\n",
       "      <td>4.000000</td>\n",
       "    </tr>\n",
       "    <tr>\n",
       "      <th>max</th>\n",
       "      <td>5.000000</td>\n",
       "      <td>5.000000</td>\n",
       "    </tr>\n",
       "  </tbody>\n",
       "</table>\n",
       "</div>"
      ],
      "text/plain": [
       "          Finances  Healthy eating\n",
       "count  1007.000000     1007.000000\n",
       "mean      3.023833        3.031778\n",
       "std       1.144365        0.936865\n",
       "min       1.000000        1.000000\n",
       "25%       2.000000        3.000000\n",
       "50%       3.000000        3.000000\n",
       "75%       4.000000        4.000000\n",
       "max       5.000000        5.000000"
      ]
     },
     "execution_count": 222,
     "metadata": {},
     "output_type": "execute_result"
    }
   ],
   "source": [
    "df_new.describe()\n"
   ]
  },
  {
   "cell_type": "code",
   "execution_count": 223,
   "metadata": {},
   "outputs": [
    {
     "data": {
      "text/html": [
       "<div>\n",
       "<style scoped>\n",
       "    .dataframe tbody tr th:only-of-type {\n",
       "        vertical-align: middle;\n",
       "    }\n",
       "\n",
       "    .dataframe tbody tr th {\n",
       "        vertical-align: top;\n",
       "    }\n",
       "\n",
       "    .dataframe thead th {\n",
       "        text-align: right;\n",
       "    }\n",
       "</style>\n",
       "<table border=\"1\" class=\"dataframe\">\n",
       "  <thead>\n",
       "    <tr style=\"text-align: right;\">\n",
       "      <th></th>\n",
       "      <th>Finances</th>\n",
       "      <th>Village - town</th>\n",
       "      <th>Healthy eating</th>\n",
       "    </tr>\n",
       "    <tr>\n",
       "      <th>Gender</th>\n",
       "      <th></th>\n",
       "      <th></th>\n",
       "      <th></th>\n",
       "    </tr>\n",
       "  </thead>\n",
       "  <tbody>\n",
       "    <tr>\n",
       "      <th>female</th>\n",
       "      <td>591</td>\n",
       "      <td>591</td>\n",
       "      <td>592</td>\n",
       "    </tr>\n",
       "    <tr>\n",
       "      <th>male</th>\n",
       "      <td>410</td>\n",
       "      <td>409</td>\n",
       "      <td>409</td>\n",
       "    </tr>\n",
       "  </tbody>\n",
       "</table>\n",
       "</div>"
      ],
      "text/plain": [
       "        Finances  Village - town  Healthy eating\n",
       "Gender                                          \n",
       "female       591             591             592\n",
       "male         410             409             409"
      ]
     },
     "execution_count": 223,
     "metadata": {},
     "output_type": "execute_result"
    }
   ],
   "source": [
    "df_new.groupby([\"Gender\"]).count()"
   ]
  },
  {
   "cell_type": "code",
   "execution_count": 224,
   "metadata": {},
   "outputs": [
    {
     "name": "stdout",
     "output_type": "stream",
     "text": [
      "<class 'pandas.core.frame.DataFrame'>\n",
      "RangeIndex: 1010 entries, 0 to 1009\n",
      "Data columns (total 4 columns):\n",
      "Finances          1007 non-null float64\n",
      "Gender            1004 non-null object\n",
      "Village - town    1006 non-null object\n",
      "Healthy eating    1007 non-null float64\n",
      "dtypes: float64(2), object(2)\n",
      "memory usage: 23.7+ KB\n"
     ]
    }
   ],
   "source": [
    "df_new.info()"
   ]
  },
  {
   "cell_type": "code",
   "execution_count": 225,
   "metadata": {},
   "outputs": [
    {
     "data": {
      "text/plain": [
       "<matplotlib.axes._subplots.AxesSubplot at 0x1461d250>"
      ]
     },
     "execution_count": 225,
     "metadata": {},
     "output_type": "execute_result"
    },
    {
     "data": {
      "image/png": "[encoded data removed]",
      "text/plain": [
       "<Figure size 432x288 with 1 Axes>"
      ]
     },
     "metadata": {
      "needs_background": "light"
     },
     "output_type": "display_data"
    }
   ],
   "source": [
    "import matplotlib.pyplot as plt\n",
    "\n",
    "sns.boxplot(data=df_new)"
   ]
  },
  {
   "cell_type": "code",
   "execution_count": 226,
   "metadata": {},
   "outputs": [
    {
     "data": {
      "text/plain": [
       "Finances          3\n",
       "Gender            6\n",
       "Village - town    4\n",
       "Healthy eating    3\n",
       "dtype: int64"
      ]
     },
     "execution_count": 226,
     "metadata": {},
     "output_type": "execute_result"
    }
   ],
   "source": [
    "df_new.isnull().sum()"
   ]
  },
  {
   "cell_type": "markdown",
   "metadata": {},
   "source": [
    "# Out of 1010 entries:\n",
    " #Finance column have 3 missing data\n",
    " #Gender column have 6 missing data\n",
    " #Village - town have 4 missing data\n",
    " #Healthy eating have 3 missing data"
   ]
  },
  {
   "cell_type": "markdown",
   "metadata": {},
   "source": [
    "# Treating Missing Data"
   ]
  },
  {
   "cell_type": "code",
   "execution_count": 227,
   "metadata": {},
   "outputs": [],
   "source": [
    "from sklearn.base import TransformerMixin\n",
    "\n",
    "class DataFrameImputer(TransformerMixin):\n",
    "\n",
    "    def __init__(self):\n",
    "        \"\"\"Impute missing values.\n",
    "\n",
    "        Columns of dtype object are imputed with the most frequent value \n",
    "        in column.\n",
    "\n",
    "        Columns of other types are imputed with mode of column.\n",
    "\n",
    "        \"\"\"\n",
    "    def fit(self, X, y=None):\n",
    "\n",
    "        self.fill = pd.Series([X[c].value_counts().index[0]\n",
    "            if X[c].dtype == np.dtype('O') else X[c].mode() for c in X],\n",
    "            index=X.columns)\n",
    "\n",
    "        return self\n",
    "\n",
    "    def transform(self, X, y=None):\n",
    "        return X.fillna(self.fill)\n",
    "\n",
    "\n",
    "\n",
    "X = pd.DataFrame(df_new)\n",
    "xt_df = DataFrameImputer().fit_transform(X)\n",
    "\n",
    "\n",
    "for column in xt_df.columns:\n",
    "    xt_df[column].fillna(xt_df[column].mode()[0], inplace=True)\n",
    "\n"
   ]
  },
  {
   "cell_type": "code",
   "execution_count": 228,
   "metadata": {
    "scrolled": false
   },
   "outputs": [
    {
     "data": {
      "text/plain": [
       "Finances          0\n",
       "Gender            0\n",
       "Village - town    0\n",
       "Healthy eating    0\n",
       "dtype: int64"
      ]
     },
     "execution_count": 228,
     "metadata": {},
     "output_type": "execute_result"
    }
   ],
   "source": [
    "xt_df.isnull().sum()"
   ]
  },
  {
   "cell_type": "markdown",
   "metadata": {},
   "source": [
    "# Treating Outliers"
   ]
  },
  {
   "cell_type": "markdown",
   "metadata": {},
   "source": [
    "# Identifying the outliers"
   ]
  },
  {
   "cell_type": "code",
   "execution_count": 203,
   "metadata": {},
   "outputs": [
    {
     "data": {
      "text/plain": [
       "Finances           0\n",
       "Gender             0\n",
       "Healthy eating    81\n",
       "Village - town     0\n",
       "dtype: int64"
      ]
     },
     "execution_count": 203,
     "metadata": {},
     "output_type": "execute_result"
    }
   ],
   "source": [
    "Q1 = xt_df.quantile(0.25)\n",
    "Q3 = xt_df.quantile(0.75)\n",
    "IQR = Q3 - Q1\n",
    "((xt_df < (Q1 - 1.5 * IQR)) | (xt_df > (Q3 + 1.5 * IQR))).sum()\n",
    "\n"
   ]
  },
  {
   "cell_type": "markdown",
   "metadata": {},
   "source": [
    "# Replacing the outliers near lower Quantile to Q3 value and upper Quantile to Q1 value"
   ]
  },
  {
   "cell_type": "code",
   "execution_count": 218,
   "metadata": {},
   "outputs": [
    {
     "name": "stdout",
     "output_type": "stream",
     "text": [
      "[2. 4.]\n",
      "[3. 4.]\n",
      "<class 'pandas.core.frame.DataFrame'>\n",
      "RangeIndex: 1010 entries, 0 to 1009\n",
      "Data columns (total 4 columns):\n",
      "Finances          1010 non-null float64\n",
      "Gender            1010 non-null object\n",
      "Village - town    1010 non-null object\n",
      "Healthy eating    1010 non-null float64\n",
      "dtypes: float64(2), object(2)\n",
      "memory usage: 23.7+ KB\n",
      "None\n"
     ]
    },
    {
     "name": "stderr",
     "output_type": "stream",
     "text": [
      "C:\\Users\\radha\\Anaconda3\\lib\\site-packages\\ipykernel_launcher.py:7: SettingWithCopyWarning: \n",
      "A value is trying to be set on a copy of a slice from a DataFrame\n",
      "\n",
      "See the caveats in the documentation: http://pandas.pydata.org/pandas-docs/stable/indexing.html#indexing-view-versus-copy\n",
      "  import sys\n",
      "C:\\Users\\radha\\Anaconda3\\lib\\site-packages\\ipykernel_launcher.py:8: SettingWithCopyWarning: \n",
      "A value is trying to be set on a copy of a slice from a DataFrame\n",
      "\n",
      "See the caveats in the documentation: http://pandas.pydata.org/pandas-docs/stable/indexing.html#indexing-view-versus-copy\n",
      "  \n"
     ]
    }
   ],
   "source": [
    "for col in df_in[['Finances','Healthy eating']]:\n",
    "    percentiles = xt_df[col].quantile([0.25,0.75]).values\n",
    "    print(percentiles)\n",
    "    Q1 = percentiles[0]\n",
    "    Q3 = percentiles[1]\n",
    "    IQR = Q3 - Q1\n",
    "    xt_df[col][xt_df[col] < (Q1-1.5 * IQR)] = Q1\n",
    "    xt_df[col][xt_df[col] > (Q1+1.5 * IQR)] = Q3\n",
    "    #xt_df[col][xt_df[col] < percentiles[0]] = percentiles[0]\n",
    "    #xt_df[col][xt_df[col] > percentiles[1]] = percentiles[1]\n",
    "    \n",
    "print(xt_df.info())"
   ]
  },
  {
   "cell_type": "code",
   "execution_count": 205,
   "metadata": {},
   "outputs": [
    {
     "data": {
      "text/plain": [
       "<seaborn.axisgrid.PairGrid at 0x141fa1f0>"
      ]
     },
     "execution_count": 205,
     "metadata": {},
     "output_type": "execute_result"
    },
    {
     "data": {
      "image/png": "[encoded data removed]",
      "text/plain": [
       "<Figure size 360x360 with 6 Axes>"
      ]
     },
     "metadata": {
      "needs_background": "light"
     },
     "output_type": "display_data"
    }
   ],
   "source": [
    "sns.pairplot(xt_df)"
   ]
  },
  {
   "cell_type": "code",
   "execution_count": 206,
   "metadata": {},
   "outputs": [
    {
     "data": {
      "text/plain": [
       "<matplotlib.axes._subplots.AxesSubplot at 0x144a4270>"
      ]
     },
     "execution_count": 206,
     "metadata": {},
     "output_type": "execute_result"
    },
    {
     "data": {
      "image/png": "[encoded data removed]",
      "text/plain": [
       "<Figure size 432x288 with 1 Axes>"
      ]
     },
     "metadata": {
      "needs_background": "light"
     },
     "output_type": "display_data"
    }
   ],
   "source": [
    "sns.boxplot(data=xt_df)"
   ]
  },
  {
   "cell_type": "code",
   "execution_count": 207,
   "metadata": {},
   "outputs": [
    {
     "data": {
      "text/plain": [
       "<matplotlib.axes._subplots.AxesSubplot at 0x14660c10>"
      ]
     },
     "execution_count": 207,
     "metadata": {},
     "output_type": "execute_result"
    },
    {
     "data": {
      "image/png": "[encoded data removed]",
      "text/plain": [
       "<Figure size 432x288 with 1 Axes>"
      ]
     },
     "metadata": {
      "needs_background": "light"
     },
     "output_type": "display_data"
    }
   ],
   "source": [
    "sns.boxplot(x=\"Village - town\",y=\"Healthy eating\",data=xt_df)"
   ]
  },
  {
   "cell_type": "markdown",
   "metadata": {},
   "source": [
    "# Create Hypothesis on the following questions –"
   ]
  },
  {
   "cell_type": "markdown",
   "metadata": {},
   "source": [
    "# Is saving money (finances) gender dependant?"
   ]
  },
  {
   "cell_type": "code",
   "execution_count": 208,
   "metadata": {},
   "outputs": [
    {
     "name": "stdout",
     "output_type": "stream",
     "text": [
      "contingency_table :-\n",
      " Finances  1.0  2.0  3.0  4.0  5.0\n",
      "Gender                           \n",
      "female     65   98  223  150   63\n",
      "male       60   76  138  102   35\n",
      "Observed Values :-\n",
      " [[ 65  98 223 150  63]\n",
      " [ 60  76 138 102  35]]\n",
      "Expected Values :-\n",
      " [[ 74.13366337 103.19405941 214.0980198  149.45346535  58.12079208]\n",
      " [ 50.86633663  70.80594059 146.9019802  102.54653465  39.87920792]]\n",
      "p-value: 0.06488794180787472\n",
      "Significance level:  0.05\n",
      "Degree of Freedom:  1\n",
      "chi-square statistic: 3.407824415621621\n",
      "critical_value: 3.841458820694124\n",
      "p-value: 0.06488794180787472\n",
      "Retain H0,There is no relationship between 2 categorical variables\n",
      "Since p value  0.06488794180787472 is > 0.05, Test is not Significant. Hence we fail to reject null hypothesis\n"
     ]
    }
   ],
   "source": [
    "contingency_table=pd.crosstab(xt_df[\"Gender\"],xt_df[\"Finances\"])\n",
    "print('contingency_table :-\\n',contingency_table)\n",
    "#Observed Values\n",
    "Observed_Values = contingency_table.values \n",
    "print(\"Observed Values :-\\n\",Observed_Values)\n",
    "b=stats.chi2_contingency(contingency_table)\n",
    "Expected_Values = b[3]\n",
    "print(\"Expected Values :-\\n\",Expected_Values)\n",
    "no_of_rows=len(contingency_table.iloc[0:2,0])\n",
    "no_of_columns=len(contingency_table.iloc[0,0:2])\n",
    "ddof=(no_of_rows-1)*(no_of_columns-1)\n",
    "\n",
    "alpha = 0.05\n",
    "from scipy.stats import chi2\n",
    "chi_square=sum([(o-e)**2./e for o,e in zip(Observed_Values,Expected_Values)])\n",
    "chi_square_statistic=chi_square[0]+chi_square[1]\n",
    "\n",
    "critical_value=chi2.ppf(q=1-alpha,df=ddof)\n",
    "\n",
    "#p-value\n",
    "p_value=1-chi2.cdf(x=chi_square_statistic,df=ddof)\n",
    "print('p-value:',p_value)\n",
    "print('Significance level: ',alpha)\n",
    "print('Degree of Freedom: ',ddof)\n",
    "print('chi-square statistic:',chi_square_statistic)\n",
    "print('critical_value:',critical_value)\n",
    "print('p-value:',p_value)\n",
    "if chi_square_statistic>=critical_value:\n",
    "    print(\"Reject H0,There is a relationship between 2 categorical variables\")\n",
    "else:\n",
    "    print(\"Retain H0,There is no relationship between 2 categorical variables\")\n",
    "    \n",
    "if p_value < alpha:\n",
    "    print(\"Since p value \",p_value, \"is < 0.05, Test is Significant and hence we reject null hypothesis(H0) at 5% level of significance. \")\n",
    "else:\n",
    "    print(\"Since p value \",p_value, \"is > 0.05, Test is not Significant. Hence we fail to reject null hypothesis\")\n"
   ]
  },
  {
   "cell_type": "markdown",
   "metadata": {},
   "source": [
    "# Is there any differences in money saving (finances) between people from city or village?"
   ]
  },
  {
   "cell_type": "code",
   "execution_count": 209,
   "metadata": {},
   "outputs": [
    {
     "name": "stdout",
     "output_type": "stream",
     "text": [
      "contingency_table :-\n",
      " Finances        1.0  2.0  3.0  4.0  5.0\n",
      "Village - town                         \n",
      "city             88  133  265  168   57\n",
      "village          37   41   96   84   41\n",
      "\n",
      "\n",
      "Observed Values :-\n",
      " [[ 88 133 265 168  57]\n",
      " [ 37  41  96  84  41]]\n",
      "\n",
      "\n",
      "Expected Values :-\n",
      " [[ 87.9950495  122.48910891 254.12970297 177.3980198   68.98811881]\n",
      " [ 37.0049505   51.51089109 106.87029703  74.6019802   29.01188119]]\n",
      "\n",
      "\n",
      "p-value: 0.08090059502646552\n",
      "\n",
      "\n",
      "Significance level:  0.05\n",
      "\n",
      "\n",
      "Degree of Freedom:  1\n",
      "chi-square statistic: 3.0467156014116705\n",
      "critical_value: 3.841458820694124\n",
      "p-value: 0.08090059502646552\n",
      "Retain H0,There is no relationship between 2 categorical variables\n",
      "Since p value  0.08090059502646552 is > 0.05, Test is not Significant. Hence we fail to reject null hypothesis\n"
     ]
    }
   ],
   "source": [
    "contingency_table=pd.crosstab(xt_df[\"Village - town\"],xt_df[\"Finances\"])\n",
    "print('contingency_table :-\\n',contingency_table)\n",
    "print(\"\\n\")\n",
    "\n",
    "#Observed Values\n",
    "Observed_Values = contingency_table.values \n",
    "print(\"Observed Values :-\\n\",Observed_Values)\n",
    "print(\"\\n\")\n",
    "\n",
    "b=stats.chi2_contingency(contingency_table)\n",
    "Expected_Values = b[3]\n",
    "print(\"Expected Values :-\\n\",Expected_Values)\n",
    "print(\"\\n\")\n",
    "\n",
    "no_of_rows=len(contingency_table.iloc[0:2,0])\n",
    "no_of_columns=len(contingency_table.iloc[0,0:2])\n",
    "ddof=(no_of_rows-1)*(no_of_columns-1)\n",
    "\n",
    "alpha = 0.05\n",
    "from scipy.stats import chi2\n",
    "chi_square=sum([(o-e)**2./e for o,e in zip(Observed_Values,Expected_Values)])\n",
    "chi_square_statistic=chi_square[0]+chi_square[1]\n",
    "\n",
    "critical_value=chi2.ppf(q=1-alpha,df=ddof)\n",
    "\n",
    "#p-value\n",
    "p_value=1-chi2.cdf(x=chi_square_statistic,df=ddof)\n",
    "print('p-value:',p_value)\n",
    "print(\"\\n\")\n",
    "print('Significance level: ',alpha)\n",
    "print(\"\\n\")\n",
    "print('Degree of Freedom: ',ddof)\n",
    "print('chi-square statistic:',chi_square_statistic)\n",
    "print('critical_value:',critical_value)\n",
    "print('p-value:',p_value)\n",
    "if chi_square_statistic>=critical_value:\n",
    "    print(\"Reject H0,There is a relationship between 2 categorical variables\")\n",
    "else:\n",
    "    print(\"Retain H0,There is no relationship between 2 categorical variables\")\n",
    "    \n",
    "if p_value < alpha:\n",
    "    print(\"Since p value \",p_value, \"is < 0.05, Test is Significant and hence we reject null hypothesis(H0) at 5% level of significance. \")\n",
    "else:\n",
    "    print(\"Since p value \",p_value, \"is > 0.05, Test is not Significant. Hence we fail to reject null hypothesis\")"
   ]
  },
  {
   "cell_type": "code",
   "execution_count": 229,
   "metadata": {
    "scrolled": true
   },
   "outputs": [
    {
     "data": {
      "text/plain": [
       "<matplotlib.axes._subplots.AxesSubplot at 0x14731210>"
      ]
     },
     "execution_count": 229,
     "metadata": {},
     "output_type": "execute_result"
    },
    {
     "data": {
      "image/png": "[encoded data removed]",
      "text/plain": [
       "<Figure size 432x288 with 1 Axes>"
      ]
     },
     "metadata": {
      "needs_background": "light"
     },
     "output_type": "display_data"
    }
   ],
   "source": [
    "sns.boxplot(x=\"Village - town\",y=\"Finances\",data=xt_df)"
   ]
  },
  {
   "cell_type": "markdown",
   "metadata": {},
   "source": [
    "# Do Women have a Healthier Lifestyle than Men?\n",
    "\n",
    "Healty eating with gender value male vs Healthy eating with gender value Female"
   ]
  },
  {
   "cell_type": "markdown",
   "metadata": {},
   "source": [
    ". Testing whether Healthy eating of female and male are same,the null hypothesis states that mean Healthy eating, \n",
    "\n",
    "  μM equals μF\n",
    "\n",
    ". The alternative hypthesis states that the  Healthy eating is different for Male and Female.\n",
    "\n",
    "Here we select :\n",
    "α = 0.05 "
   ]
  },
  {
   "cell_type": "code",
   "execution_count": 242,
   "metadata": {},
   "outputs": [
    {
     "name": "stdout",
     "output_type": "stream",
     "text": [
      "Mean of Female Healthy eating :  3.1669449081803007\n",
      "Mean of Male Healthy eating :  3.116788321167883\n"
     ]
    }
   ],
   "source": [
    "healthy_e_female = xt_df[xt_df['Gender'] == 'female'] ['Healthy eating']\n",
    "healthy_e_male = xt_df[xt_df['Gender'] == 'male'] ['Healthy eating']\n",
    "\n",
    "female_mean = healthy_e_female.mean()\n",
    "male_mean = healthy_e_male.mean()\n",
    "\n",
    "print(\"Mean of Female Healthy eating : \",female_mean)\n",
    "print(\"Mean of Male Healthy eating : \",male_mean)"
   ]
  },
  {
   "cell_type": "code",
   "execution_count": null,
   "metadata": {},
   "outputs": [],
   "source": []
  },
  {
   "cell_type": "code",
   "execution_count": 234,
   "metadata": {},
   "outputs": [
    {
     "data": {
      "text/plain": [
       "36"
      ]
     },
     "execution_count": 234,
     "metadata": {},
     "output_type": "execute_result"
    }
   ],
   "source": [
    "Q1 = healthy_e_female.quantile(0.25)\n",
    "Q3 = healthy_e_female.quantile(0.75)\n",
    "IQR = Q3 - Q1\n",
    "((healthy_e_female < (Q1 - 1.5 * IQR)) | (healthy_e_female > (Q3 + 1.5 * IQR))).sum()"
   ]
  },
  {
   "cell_type": "code",
   "execution_count": 235,
   "metadata": {},
   "outputs": [
    {
     "data": {
      "text/plain": [
       "0"
      ]
     },
     "execution_count": 235,
     "metadata": {},
     "output_type": "execute_result"
    }
   ],
   "source": [
    "Q1 = healthy_e_male.quantile(0.25)\n",
    "Q3 = healthy_e_male.quantile(0.75)\n",
    "IQR = Q3 - Q1\n",
    "((healthy_e_male < (Q1 - 1.5 * IQR)) | (healthy_e_male > (Q3 + 1.5 * IQR))).sum()"
   ]
  },
  {
   "cell_type": "code",
   "execution_count": null,
   "metadata": {},
   "outputs": [],
   "source": []
  },
  {
   "cell_type": "code",
   "execution_count": 231,
   "metadata": {},
   "outputs": [
    {
     "name": "stdout",
     "output_type": "stream",
     "text": [
      "P Value 0.047\n",
      "Since p value  0.04685965412880698 is < 0.05, Test is Significant and hence we reject null hypothesis(H0) at 5% level of significance. \n"
     ]
    }
   ],
   "source": [
    "t_statistic, p_value  =  stats.ttest_ind(healthy_e_male,healthy_e_female)\n",
    "print('P Value %1.3f' % p_value)\n",
    "\n",
    "if p_value < 0.05:\n",
    "    print(\"Since p value \",p_value, \"is < 0.05, Test is Significant and hence we reject null hypothesis(H0) at 5% level of significance. \")\n",
    "else:\n",
    "    print(\"Since p value \",p_value, \"is > 0.05, Test is not Significant. Hence we fail to reject null hypothesis\")"
   ]
  },
  {
   "cell_type": "markdown",
   "metadata": {},
   "source": [
    "# Are Village People Healthier than City People?"
   ]
  },
  {
   "cell_type": "markdown",
   "metadata": {},
   "source": [
    "Healty eating of village people vs Healthy eating of city people\n",
    "\n",
    ". Testing whether Healty eating of village and city people are same.\n",
    ". The null hypothesis states that mean Healthy eating, \n",
    "   μV equals μC\n",
    ". The alternative hypthesis states that the Healthy eating is different in village and city.\n",
    "Here we select : α = 0.05"
   ]
  },
  {
   "cell_type": "code",
   "execution_count": 232,
   "metadata": {},
   "outputs": [
    {
     "name": "stdout",
     "output_type": "stream",
     "text": [
      "Mean of village Healthy eating :  2.983277591973244\n",
      "Mean of City Healthy eating :  3.052039381153305\n"
     ]
    }
   ],
   "source": [
    "healthy_e_village = xt_df[xt_df['Village - town'] == 'village'] ['Healthy eating']\n",
    "healthy_e_city = xt_df[xt_df['Village - town'] == 'city'] ['Healthy eating']\n",
    "\n",
    "village_mean = healthy_e_village.mean()\n",
    "city_mean = healthy_e_city.mean()\n",
    "\n",
    "print(\"Mean of village Healthy eating : \",village_mean)\n",
    "print(\"Mean of City Healthy eating : \",city_mean)"
   ]
  },
  {
   "cell_type": "code",
   "execution_count": 233,
   "metadata": {},
   "outputs": [
    {
     "name": "stdout",
     "output_type": "stream",
     "text": [
      "P Value 0.286\n",
      "Since p value  0.2864594559841501 is > 0.05, Test is not Significant. Hence we fail to reject null hypothesis\n"
     ]
    }
   ],
   "source": [
    "t_statistic, p_value  =  stats.ttest_ind(healthy_e_village,healthy_e_city)\n",
    "print('P Value %1.3f' % p_value)\n",
    "\n",
    "if p_value < 0.05:\n",
    "    print(\"Since p value \",p_value, \"is < 0.05, Test is Significant and hence we reject null hypothesis(H0) at 5% level of significance. \")\n",
    "else:\n",
    "    print(\"Since p value \",p_value, \"is > 0.05, Test is not Significant. Hence we fail to reject null hypothesis\")"
   ]
  },
  {
   "cell_type": "code",
   "execution_count": null,
   "metadata": {},
   "outputs": [],
   "source": []
  },
  {
   "cell_type": "code",
   "execution_count": null,
   "metadata": {},
   "outputs": [],
   "source": []
  }
 ],
 "metadata": {
  "kernelspec": {
   "display_name": "Python 3",
   "language": "python",
   "name": "python3"
  },
  "language_info": {
   "codemirror_mode": {
    "name": "ipython",
    "version": 3
   },
   "file_extension": ".py",
   "mimetype": "text/x-python",
   "name": "python",
   "nbconvert_exporter": "python",
   "pygments_lexer": "ipython3",
   "version": "3.7.3"
  }
 },
 "nbformat": 4,
 "nbformat_minor": 2
}
